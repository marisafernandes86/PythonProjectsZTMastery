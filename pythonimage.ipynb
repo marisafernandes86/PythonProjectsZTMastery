{
 "cells": [
  {
   "cell_type": "code",
   "execution_count": 17,
   "metadata": {},
   "outputs": [
    {
     "name": "stdout",
     "output_type": "stream",
     "text": [
      "<PIL.JpegImagePlugin.JpegImageFile image mode=RGB size=640x640 at 0x1FCE38EE7C0>\n"
     ]
    }
   ],
   "source": [
    "from PIL import Image, ImageFilter\n",
    "#Winner Image\n",
    "pikachu = Image.open(r\"C:\\Users\\Marisa\\Desktop\\pikachu.jpg\")\n",
    "#print(pikachu.format) ---» to know image's format\n",
    "#print(pikachu.size) ---» to know image's size\n",
    "#print(pikachu.mode) ---» it means that the color is in RGB\n",
    "#print(dir(pikachu.mode)) ---» we have all the things that the image gives us\n",
    "filtered_pikachu = pikachu.filter(ImageFilter.BLUR)\n",
    "print(pikachu)"
   ]
  },
  {
   "cell_type": "code",
   "execution_count": 30,
   "metadata": {},
   "outputs": [],
   "source": [
    "filtered_pikachu.save(\"blur.png\",'png') "
   ]
  },
  {
   "cell_type": "code",
   "execution_count": 40,
   "metadata": {},
   "outputs": [],
   "source": [
    "filtered_pikachu = pikachu.convert('L')\n",
    "filtered_pikachu.save('grey.png', 'png')"
   ]
  },
  {
   "cell_type": "code",
   "execution_count": 41,
   "metadata": {},
   "outputs": [],
   "source": [
    "filtered_pikachu.show() #it shows a grey image of Pikachu"
   ]
  },
  {
   "cell_type": "code",
   "execution_count": 53,
   "metadata": {},
   "outputs": [],
   "source": [
    "astro = Image.open(r\"C:\\Users\\Marisa\\Desktop\\astro.jpg\")\n",
    "\n",
    "astro_ = astro.resize((400,400)) #we resize the image's dimension\n",
    "astro_.save('thumbnail.jpg')\n",
    "\n",
    "astro_.show()"
   ]
  },
  {
   "cell_type": "code",
   "execution_count": null,
   "metadata": {},
   "outputs": [],
   "source": []
  },
  {
   "cell_type": "code",
   "execution_count": null,
   "metadata": {},
   "outputs": [],
   "source": []
  },
  {
   "cell_type": "code",
   "execution_count": null,
   "metadata": {},
   "outputs": [],
   "source": []
  }
 ],
 "metadata": {
  "kernelspec": {
   "display_name": "Python 3",
   "language": "python",
   "name": "python3"
  },
  "language_info": {
   "codemirror_mode": {
    "name": "ipython",
    "version": 3
   },
   "file_extension": ".py",
   "mimetype": "text/x-python",
   "name": "python",
   "nbconvert_exporter": "python",
   "pygments_lexer": "ipython3",
   "version": "3.8.3"
  }
 },
 "nbformat": 4,
 "nbformat_minor": 4
}
