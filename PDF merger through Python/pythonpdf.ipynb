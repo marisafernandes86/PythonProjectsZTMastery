{
 "cells": [
  {
   "cell_type": "code",
   "execution_count": 13,
   "metadata": {},
   "outputs": [],
   "source": [
    "import PyPDF2 \n",
    "\n",
    "#the goal here is to merge to different pdf files into just one: 'twopage.pdf' and 'dummy.pdf'\n",
    " \n",
    "# Open the files that have to be merged one by one\n",
    "pdf1File = open(r'twopage.pdf', 'rb')\n",
    "pdf2File = open(r'dummy.pdf', 'rb')\n",
    " \n",
    "# Read the files that you have opened\n",
    "pdf1Reader = PyPDF2.PdfFileReader(pdf1File)\n",
    "pdf2Reader = PyPDF2.PdfFileReader(pdf2File)\n",
    " \n",
    "# Create a new PdfFileWriter object which represents a blank PDF document\n",
    "pdfWriter = PyPDF2.PdfFileWriter()\n",
    " \n",
    "# Loop through all the pagenumbers for the first document\n",
    "for pageNum in range(pdf1Reader.numPages):\n",
    "    pageObj = pdf1Reader.getPage(pageNum)\n",
    "    pdfWriter.addPage(pageObj)\n",
    " \n",
    "# Loop through all the pagenumbers for the second document\n",
    "for pageNum in range(pdf2Reader.numPages):\n",
    "    pageObj = pdf2Reader.getPage(pageNum)\n",
    "    pdfWriter.addPage(pageObj)\n",
    " \n",
    "# Now that you have copied all the pages in both the documents, write them into the a new document\n",
    "pdfOutputFile = open('MergedFiles.pdf', 'wb')\n",
    "pdfWriter.write(pdfOutputFile)\n",
    " \n",
    "# Close all the files - Created as well as opened\n",
    "pdfOutputFile.close()\n",
    "pdf1File.close()\n",
    "pdf2File.close()"
   ]
  },
  {
   "cell_type": "code",
   "execution_count": null,
   "metadata": {},
   "outputs": [],
   "source": []
  }
 ],
 "metadata": {
  "kernelspec": {
   "display_name": "Python 3",
   "language": "python",
   "name": "python3"
  },
  "language_info": {
   "codemirror_mode": {
    "name": "ipython",
    "version": 3
   },
   "file_extension": ".py",
   "mimetype": "text/x-python",
   "name": "python",
   "nbconvert_exporter": "python",
   "pygments_lexer": "ipython3",
   "version": "3.8.3"
  }
 },
 "nbformat": 4,
 "nbformat_minor": 4
}
