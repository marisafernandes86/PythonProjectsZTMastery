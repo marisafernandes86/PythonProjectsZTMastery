{
 "cells": [
  {
   "cell_type": "code",
   "execution_count": 4,
   "metadata": {},
   "outputs": [],
   "source": [
    "import PyPDF2\n",
    "\n",
    "template = PyPDF2.PdfFileReader(open('MergedFiles.pdf', 'rb'))\n",
    "watermark = PyPDF2.PdfFileReader(open('wtr.pdf', 'rb'))\n",
    "output = PyPDF2.PdfFileWriter()\n",
    "\n",
    "for i in range(template.getNumPages()):\n",
    "  page = template.getPage(i)\n",
    "  page.mergePage(watermark.getPage(0))\n",
    "  output.addPage(page)\n",
    "\n",
    "  with open('watermarked_output.pdf', 'wb') as file:\n",
    "    output.write(file)"
   ]
  },
  {
   "cell_type": "code",
   "execution_count": null,
   "metadata": {},
   "outputs": [],
   "source": []
  }
 ],
 "metadata": {
  "kernelspec": {
   "display_name": "Python 3",
   "language": "python",
   "name": "python3"
  },
  "language_info": {
   "codemirror_mode": {
    "name": "ipython",
    "version": 3
   },
   "file_extension": ".py",
   "mimetype": "text/x-python",
   "name": "python",
   "nbconvert_exporter": "python",
   "pygments_lexer": "ipython3",
   "version": "3.8.3"
  }
 },
 "nbformat": 4,
 "nbformat_minor": 4
}
